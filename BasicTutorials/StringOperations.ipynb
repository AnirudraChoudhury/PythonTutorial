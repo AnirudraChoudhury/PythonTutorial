{
 "nbformat": 4,
 "nbformat_minor": 2,
 "metadata": {
  "language_info": {
   "name": "python",
   "codemirror_mode": {
    "name": "ipython",
    "version": 3
   },
   "version": "3.6.9-final"
  },
  "orig_nbformat": 2,
  "file_extension": ".py",
  "mimetype": "text/x-python",
  "name": "python",
  "npconvert_exporter": "python",
  "pygments_lexer": "ipython3",
  "version": 3,
  "kernelspec": {
   "name": "python36964bit659e97b979074c47b3af4c9698d7be04",
   "display_name": "Python 3.6.9 64-bit"
  }
 },
 "cells": [
  {
   "cell_type": "code",
   "execution_count": 2,
   "metadata": {},
   "outputs": [
    {
     "name": "stdout",
     "output_type": "stream",
     "text": "<class 'str'>\n"
    }
   ],
   "source": [
    "# 1st : str()\n",
    "\n",
    "# Convert any set of charecters or digit into string\n",
    "\n",
    "StringNumber = str(1000)        # Convert 1000 into a string\n",
    "print(type(StringNumber))       # Print the type of the String numer\n"
   ]
  },
  {
   "cell_type": "code",
   "execution_count": 3,
   "metadata": {},
   "outputs": [
    {
     "name": "stdout",
     "output_type": "stream",
     "text": "11\n"
    }
   ],
   "source": [
    "# 2nd : len()\n",
    "# to get length of the charecters in astring\n",
    "\n",
    "TestString = \"Hello World\"\n",
    "\n",
    "# store length of the string in a variable then print the value\n",
    "\n",
    "StringLength = len(TestString)\n",
    "print(StringLength)\n"
   ]
  }
 ]
}